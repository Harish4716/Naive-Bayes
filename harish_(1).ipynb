{
  "nbformat": 4,
  "nbformat_minor": 0,
  "metadata": {
    "colab": {
      "provenance": []
    },
    "kernelspec": {
      "name": "python3",
      "display_name": "Python 3"
    },
    "language_info": {
      "name": "python"
    }
  },
  "cells": [
    {
      "cell_type": "code",
      "source": [],
      "metadata": {
        "id": "5mNq9Ue2ju2Q"
      },
      "execution_count": null,
      "outputs": []
    },
    {
      "cell_type": "code",
      "source": [
        "from csv import reader\n",
        "from math import sqrt\n",
        "from math import exp\n",
        "from math import pi\n",
        "\n",
        "\n",
        "\n"
      ],
      "metadata": {
        "id": "iLgtJ3L0zlq7"
      },
      "execution_count": 1,
      "outputs": []
    },
    {
      "cell_type": "code",
      "source": [
        "import math\n",
        "\n",
        "def load_csv(filename):\n",
        "    dataset = []\n",
        "    with open(filename, 'r') as file:\n",
        "        lines = file.readlines()\n",
        "        for line in lines:\n",
        "            dataset.append(line.strip().split(','))\n",
        "    return dataset\n",
        "\n",
        "def str_column_to_float(dataset, column):\n",
        "    for row in dataset:\n",
        "        row[column] = float(row[column].strip())\n",
        "\n",
        "def str_column_to_int(dataset, column):\n",
        "    class_values = [row[column] for row in dataset]\n",
        "    unique = set(class_values)\n",
        "    lookup = dict()\n",
        "    for i, value in enumerate(unique):\n",
        "        lookup[value] = i\n",
        "    for row in dataset:\n",
        "        row[column] = lookup[row[column]]\n",
        "    return lookup\n",
        "\n",
        "def separate_by_class(dataset):\n",
        "    separated = {}\n",
        "    for i in range(len(dataset)):\n",
        "        row = dataset[i]\n",
        "        if row[-1] not in separated:\n",
        "            separated[row[-1]] = []\n",
        "        separated[row[-1]].append(row)\n",
        "    return separated\n",
        "\n",
        "def mean(numbers):\n",
        "    return sum(numbers)/float(len(numbers))\n",
        "\n",
        "def stdev(numbers):\n",
        "    avg = mean(numbers)\n",
        "    variance = sum([pow(x-avg,2) for x in numbers])/float(len(numbers)-1)\n",
        "    return math.sqrt(variance)\n",
        "\n",
        "def summarize_dataset(dataset):\n",
        "    summaries = [(mean(column), stdev(column), len(column)) for column in zip(*dataset)]\n",
        "    del(summaries[-1])\n",
        "    return summaries\n",
        "\n",
        "def summarize_by_class(dataset):\n",
        "    separated = separate_by_class(dataset)\n",
        "    summaries = {}\n",
        "    for class_value, rows in separated.items():\n",
        "        summaries[class_value] = summarize_dataset(rows)\n",
        "    return summaries\n",
        "\n",
        "def calculate_probability(x, mean, stdev):\n",
        "    exponent = math.exp(-((x-mean)**2 / (2 * stdev**2)))\n",
        "    return (1 / (math.sqrt(2 * math.pi) * stdev)) * exponent\n",
        "\n",
        "def calculate_class_probabilities(summaries, row):\n",
        "    total_rows = sum([summaries[label][0][2] for label in summaries])\n",
        "    probabilities = {}\n",
        "    for class_value, class_summaries in summaries.items():\n",
        "        probabilities[class_value] = summaries[class_value][0][2]/float(total_rows)\n",
        "        for i in range(len(class_summaries)):\n",
        "            mean, stdev, count = class_summaries[i]\n",
        "            probabilities[class_value] *= calculate_probability(row[i], mean, stdev)\n",
        "    return probabilities\n",
        "\n",
        "def predict(summaries, row):\n",
        "    probabilities = calculate_class_probabilities(summaries, row)\n",
        "    best_label, best_prob = None, -1\n",
        "    for class_value, probability in probabilities.items():\n",
        "        if best_label is None or probability > best_prob:\n",
        "            best_prob = probability\n",
        "            best_label = class_value\n",
        "    return best_label\n",
        "\n",
        "# example usage\n",
        "filename = '/content/titanic (2).csv'\n",
        "dataset = load_csv(filename)\n",
        "for i in range(len(dataset[0])):\n",
        "    str_column_to_float(dataset, i)\n",
        "# convert class column to integers\n",
        "str_column_to_int(dataset, len(dataset[0])-1)\n",
        "# fit model\n",
        "model = summarize_by_class(dataset)\n",
        "# define a new record\n",
        "row = [6,2,72,35,0,33.6,0.5,10]\n",
        "# predict the label\n",
        "label = predict(model, row)\n",
        "if label==1:\n",
        "  print(' Survived ')\n",
        "else:\n",
        "  print('NO Survived')\n",
        "print('Data=%s, Predicted: %s' % (row, label))\n"
      ],
      "metadata": {
        "colab": {
          "base_uri": "https://localhost:8080/"
        },
        "id": "xbtWWwwQRWx5",
        "outputId": "332d141f-d703-4c89-91b0-c6df1fcb0251"
      },
      "execution_count": 2,
      "outputs": [
        {
          "output_type": "stream",
          "name": "stdout",
          "text": [
            " Survived \n",
            "Data=[6, 2, 72, 35, 0, 33.6, 0.5, 10], Predicted: 1\n"
          ]
        }
      ]
    },
    {
      "cell_type": "code",
      "source": [],
      "metadata": {
        "id": "ZH_Hb_j_UCLC"
      },
      "execution_count": null,
      "outputs": []
    }
  ]
}